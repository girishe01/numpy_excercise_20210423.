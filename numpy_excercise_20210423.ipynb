{
 "cells": [
  {
   "cell_type": "code",
   "execution_count": 1,
   "metadata": {},
   "outputs": [
    {
     "data": {
      "text/plain": [
       "array([12, 13, 14, 15, 16, 17, 18, 19, 20, 21, 22, 23, 24, 25, 26, 27, 28,\n",
       "       29, 30, 31, 32, 33, 34, 35, 36, 37])"
      ]
     },
     "execution_count": 1,
     "metadata": {},
     "output_type": "execute_result"
    }
   ],
   "source": [
    "# Create an array with values ranging from 12 to 38\"\n",
    "import numpy as np \n",
    "\n",
    "arr = np.arange(12,38)\n",
    "arr"
   ]
  },
  {
   "cell_type": "code",
   "execution_count": 16,
   "metadata": {},
   "outputs": [
    {
     "name": "stdout",
     "output_type": "stream",
     "text": [
      "[[0. 0. 0. 0. 0.]\n",
      " [0. 1. 1. 1. 0.]\n",
      " [0. 1. 1. 1. 0.]\n",
      " [0. 1. 1. 1. 0.]\n",
      " [0. 0. 0. 0. 0.]]\n"
     ]
    }
   ],
   "source": [
    "#Add a border around an existing array\n",
    "arr1=np.ones((3,3))\n",
    "pad_arr=np.pad(arr1,pad_width=1,mode='constant',constant_values=0)\n",
    "print(pad_arr)\n"
   ]
  },
  {
   "cell_type": "code",
   "execution_count": 24,
   "metadata": {},
   "outputs": [
    {
     "name": "stdout",
     "output_type": "stream",
     "text": [
      "[12, 13, 14, 15, 16, 17, 18, 19, 20, 21, 22, 23, 24, 25, 26, 27, 28, 29, 30, 31, 32, 33, 34, 35, 36, 37]\n",
      "[12 13 14 15 16 17 18 19 20 21 22 23 24 25 26 27 28 29 30 31 32 33 34 35\n",
      " 36 37]\n",
      "(12, 13, 14, 15, 16, 17, 18, 19, 20, 21, 22, 23, 24, 25, 26, 27, 28, 29, 30, 31, 32, 33, 34, 35, 36, 37)\n",
      "[12 13 14 15 16 17 18 19 20 21 22 23 24 25 26 27 28 29 30 31 32 33 34 35\n",
      " 36 37]\n"
     ]
    }
   ],
   "source": [
    "## Exercise 3: Convert a list and tuple into arrays\"\n",
    "\n",
    "lst1 = [12, 13, 14, 15, 16, 17, 18, 19, 20, 21, 22, 23, 24, 25, 26, 27, 28,\n",
    "       29, 30, 31, 32, 33, 34, 35, 36, 37]\n",
    "print(lst1)\n",
    "lst2= np.array(lst1)\n",
    "print(lst2)\n",
    "tup1 = (12, 13, 14, 15, 16, 17, 18, 19, 20, 21, 22, 23, 24, 25, 26, 27, 28,\n",
    "       29, 30, 31, 32, 33, 34, 35, 36, 37)\n",
    "print(tup1)\n",
    "tup2 = np.asarray(tup1)\n",
    "print(tup2)"
   ]
  },
  {
   "cell_type": "code",
   "execution_count": 37,
   "metadata": {},
   "outputs": [
    {
     "name": "stdout",
     "output_type": "stream",
     "text": [
      "[12 13 14 15 16 17 18 19 20 21 22 23 24 25 26 27 28 29 30 31 32 33 34 35\n",
      " 36 37]\n",
      "53.6\n",
      "55.4\n",
      "57.2\n",
      "59.0\n",
      "60.8\n",
      "62.6\n",
      "64.4\n",
      "66.2\n",
      "68.0\n",
      "69.8\n",
      "71.6\n",
      "73.4\n",
      "75.2\n",
      "77.0\n",
      "78.8\n",
      "80.6\n",
      "82.4\n",
      "84.2\n",
      "86.0\n",
      "87.8\n",
      "89.6\n",
      "91.4\n",
      "93.2\n",
      "95.0\n",
      "96.8\n",
      "98.6\n"
     ]
    }
   ],
   "source": [
    "##Exercise 4:  Convert the values of Centigrade degrees into Fahrenheit degrees\n",
    "\n",
    "arr1 = np.arange(12,38)\n",
    "print(arr1)\n",
    "for i in arr1:\n",
    "    far = ((9 * i )/ 5 + 32)\n",
    "    print(far)\n"
   ]
  },
  {
   "cell_type": "code",
   "execution_count": 47,
   "metadata": {},
   "outputs": [
    {
     "name": "stdout",
     "output_type": "stream",
     "text": [
      "[12 13 14 15 16 17 18 19 20 21 22 23 24 25 26 27 28 29 30 31 32 33 34 35\n",
      " 36 37 38 39 40 41 42 43 44 45 46 47 48 49]\n"
     ]
    },
    {
     "data": {
      "text/plain": [
       "304"
      ]
     },
     "execution_count": 47,
     "metadata": {},
     "output_type": "execute_result"
    }
   ],
   "source": [
    "## Exercise 5: Write a NumPy program to find the number of elements of an array, \n",
    "#length of one array element in bytes and total bytes consumed by the elements. \"\n",
    "\n",
    "arr1= np.arange(12,50)\n",
    "print(arr1)\n",
    "np.size(arr1)\n",
    "arr1.itemsize\n",
    "arr1.nbytes\n"
   ]
  },
  {
   "cell_type": "code",
   "execution_count": 65,
   "metadata": {},
   "outputs": [
    {
     "name": "stdout",
     "output_type": "stream",
     "text": [
      "[10 20 10 10 20 20 30 10 20 10 20 10 20 10 20 10]\n",
      "[[10 20 10 10]\n",
      " [20 20 30 10]\n",
      " [20 10 20 10]\n",
      " [20 10 20 10]]\n"
     ]
    },
    {
     "data": {
      "text/plain": [
       "array([10, 20, 30])"
      ]
     },
     "execution_count": 65,
     "metadata": {},
     "output_type": "execute_result"
    }
   ],
   "source": [
    "## Exercise 6: Get the unique elements of an array\n",
    "arr1 = [10,10,20,20,30,30]\n",
    "np.array(arr1)\n",
    "np.unique(arr1)\n",
    "arr1 =np.array([10,20,10,10,20,20,30,10,20,10,20,10,20,10,20,10])\n",
    "print(arr1)\n",
    "arr2=arr1.reshape(4,4)\n",
    "print(arr2)\n",
    "np.unique(arr2)"
   ]
  },
  {
   "cell_type": "code",
   "execution_count": 69,
   "metadata": {},
   "outputs": [
    {
     "name": "stdout",
     "output_type": "stream",
     "text": [
      "[2.5        2.63793103 2.77586207 2.9137931  3.05172414 3.18965517\n",
      " 3.32758621 3.46551724 3.60344828 3.74137931 3.87931034 4.01724138\n",
      " 4.15517241 4.29310345 4.43103448 4.56896552 4.70689655 4.84482759\n",
      " 4.98275862 5.12068966 5.25862069 5.39655172 5.53448276 5.67241379\n",
      " 5.81034483 5.94827586 6.0862069  6.22413793 6.36206897 6.5       ]\n"
     ]
    }
   ],
   "source": [
    "## Exercise 8: Create a 1-D array of 30 evenly spaced elements between 2.5. and 6.5, inclusive\"\n",
    "x = np.linspace(2.5,6.5,30)\n",
    "print(x)"
   ]
  },
  {
   "cell_type": "code",
   "execution_count": 75,
   "metadata": {},
   "outputs": [
    {
     "name": "stdout",
     "output_type": "stream",
     "text": [
      "[10 11 12 13 14 15 16 17 18 19]\n",
      "[20 21 22 23 24 25 26 27 28 29]\n",
      "[[10 20]\n",
      " [11 21]\n",
      " [12 22]\n",
      " [13 23]\n",
      " [14 24]\n",
      " [15 25]\n",
      " [16 26]\n",
      " [17 27]\n",
      " [18 28]\n",
      " [19 29]]\n"
     ]
    }
   ],
   "source": [
    "# Exercise 9: Convert 1-D arrays as columns into a 2-D array\n",
    "arr1 = np.arange(10,20)\n",
    "arr2 = np.arange(20,30)\n",
    "print(arr1)\n",
    "print(arr2)\n",
    "arr3 = np.column_stack((arr1,arr2))\n",
    "print(arr3)"
   ]
  },
  {
   "cell_type": "code",
   "execution_count": 83,
   "metadata": {},
   "outputs": [
    {
     "name": "stdout",
     "output_type": "stream",
     "text": [
      "[[0. 0. 0. 0. 0.]\n",
      " [0. 0. 0. 0. 0.]\n",
      " [0. 0. 0. 0. 0.]\n",
      " [0. 0. 0. 0. 0.]\n",
      " [0. 0. 0. 0. 0.]]\n",
      "[[0. 1. 2. 3. 4.]\n",
      " [0. 1. 2. 3. 4.]\n",
      " [0. 1. 2. 3. 4.]\n",
      " [0. 1. 2. 3. 4.]\n",
      " [0. 1. 2. 3. 4.]]\n"
     ]
    }
   ],
   "source": [
    "## Exercise 10: Create a 5x5 matrix with row values ranging from 0 to 4\n",
    "arr1 = np.zeros((5,5))\n",
    "print(arr1)\n",
    "arr1 +=np.arange(5)\n",
    "print(arr1)\n"
   ]
  },
  {
   "cell_type": "code",
   "execution_count": 97,
   "metadata": {},
   "outputs": [
    {
     "name": "stdout",
     "output_type": "stream",
     "text": [
      "[ 1  2  3  4  5  6  7  8  9 10 11 12 13 14 15 16 17 18 19 20 21 22 23 24\n",
      " 25 26 27 28 29 30 31 32 33 34 35 36 37 38 39 40 41 42 43 44 45 46 47 48\n",
      " 49 50 51 52 53 54 55 56 57 58 59 60 61 62 63 64 65 66 67 68 69 70 71 72\n",
      " 73 74 75 76 77 78 79 80 81 82 83 84 85 86 87 88 89 90 91 92 93 94 95 96\n",
      " 97 98 99]\n",
      "[ 3  5  6  9 10 12 15 18 20 21 24 25 27 30 33 35 36 39 40 42 45 48 50 51\n",
      " 54 55 57 60 63 65 66 69 70 72 75 78 80 81 84 85 87 90 93 95 96 99]\n",
      "2318\n"
     ]
    }
   ],
   "source": [
    "import numpy as np\n",
    "x = np.arange(1, 100)\n",
    "print(x)\n",
    "# find  multiple of 3 or 5\n",
    "n= x[(x % 3 == 0) | (x % 5 == 0)]\n",
    "print(n)\n",
    "# print sum the numbers\n",
    "print(n.sum())"
   ]
  },
  {
   "cell_type": "code",
   "execution_count": 114,
   "metadata": {},
   "outputs": [
    {
     "name": "stdout",
     "output_type": "stream",
     "text": [
      "[0 1 2 3]\n",
      "[[0 1 2 3]\n",
      " [4 5 6 7]]\n",
      "0:0\n",
      "1:1\n",
      "2:2\n",
      "3:3\n",
      "0:4\n",
      "1:5\n",
      "2:6\n",
      "3:7\n"
     ]
    }
   ],
   "source": [
    "## Exercise 12: Combine a one and a two dimensional array together and display their elements\\n\"\n",
    "x= np.arange(4)\n",
    "print(x)\n",
    "y= np.arange(8)\n",
    "z=y.reshape(2,4)\n",
    "print(z)\n",
    "for a, b in np.nditer([x,z]):\n",
    "    print(\"%d:%d\" % (a,b),)\n",
    "    \n",
    "  \n"
   ]
  },
  {
   "cell_type": "code",
   "execution_count": 124,
   "metadata": {},
   "outputs": [
    {
     "name": "stdout",
     "output_type": "stream",
     "text": [
      "[[0.42436315 0.48558583 0.32924763]\n",
      " [0.7439979  0.58220701 0.38213418]\n",
      " [0.5097581  0.34528799 0.1563123 ]]\n",
      "[[0.5        0.5        0.5       ]\n",
      " [0.7439979  0.58220701 0.5       ]\n",
      " [0.5097581  0.5        0.5       ]]\n"
     ]
    }
   ],
   "source": [
    "## Exercise 13: Write a NumPy program to replace all elements of NumPy array that are greater than specified array.\n",
    "arr1 = np.array([[0.42436315, 0.48558583, 0.32924763],[0.7439979,0.58220701,0.38213418],[0.5097581,0.34528799,0.1563123]])\n",
    "print(arr1)\n",
    "arr1[arr1 > .5] = .5\n",
    "print(arr1)"
   ]
  },
  {
   "cell_type": "code",
   "execution_count": 143,
   "metadata": {},
   "outputs": [
    {
     "name": "stdout",
     "output_type": "stream",
     "text": [
      "[]\n",
      "[]\n",
      "[[ 0  1  2]\n",
      " [ 3  4 65]]\n"
     ]
    }
   ],
   "source": [
    "# Exercise 14: Add a new row to an empty numpy array\"\n",
    "arr1 = np.array([])\n",
    "print(arr1)\n",
    "np.append(arr1,np.array([0,1,2,3]),axis=0)\n",
    "arr2 = np.empty((0,3),int)\n",
    "print(arr2)\n",
    "arr2 = np.append(arr2,np.array([[0,1,2]]),axis=0)\n",
    "arr2 = np.append(arr2,np.array([[3,4,65]]),axis=0)\n",
    "print(arr2)\n",
    "\n"
   ]
  },
  {
   "cell_type": "code",
   "execution_count": 152,
   "metadata": {},
   "outputs": [
    {
     "name": "stdout",
     "output_type": "stream",
     "text": [
      "[1 2 3]\n",
      "[4 5 6]\n",
      "[[1 2 3]\n",
      " [4 5 6]]\n",
      "[[1]\n",
      " [2]\n",
      " [3]]\n",
      "[[2]\n",
      " [3]\n",
      " [4]]\n"
     ]
    },
    {
     "data": {
      "text/plain": [
       "array([[1],\n",
       "       [2],\n",
       "       [3],\n",
       "       [2],\n",
       "       [3],\n",
       "       [4]])"
      ]
     },
     "execution_count": 152,
     "metadata": {},
     "output_type": "execute_result"
    }
   ],
   "source": [
    "arr1 = np.array([1,2,3])\n",
    "print(arr1)\n",
    "arr2 = np.array([4,5,6])\n",
    "print(arr2)\n",
    "z=np.vstack([arr1,arr2])\n",
    "print(z)\n",
    "x = np.array([[1], [2], [3]])\n",
    "y = np.array([[2], [3], [4]])\n",
    "print(x)\n",
    "print(y)\n",
    "np.vstack((x,y))"
   ]
  },
  {
   "cell_type": "code",
   "execution_count": 148,
   "metadata": {},
   "outputs": [
    {
     "data": {
      "text/plain": [
       "array([[1, 2, 3],\n",
       "       [4, 5, 6]])"
      ]
     },
     "execution_count": 148,
     "metadata": {},
     "output_type": "execute_result"
    }
   ],
   "source": [
    "np.vstack([arr1,arr2])"
   ]
  },
  {
   "cell_type": "code",
   "execution_count": null,
   "metadata": {},
   "outputs": [],
   "source": []
  }
 ],
 "metadata": {
  "kernelspec": {
   "display_name": "Python 3",
   "language": "python",
   "name": "python3"
  },
  "language_info": {
   "codemirror_mode": {
    "name": "ipython",
    "version": 3
   },
   "file_extension": ".py",
   "mimetype": "text/x-python",
   "name": "python",
   "nbconvert_exporter": "python",
   "pygments_lexer": "ipython3",
   "version": "3.8.5"
  }
 },
 "nbformat": 4,
 "nbformat_minor": 4
}
